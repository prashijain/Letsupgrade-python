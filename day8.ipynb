{
  "nbformat": 4,
  "nbformat_minor": 0,
  "metadata": {
    "colab": {
      "name": "day8.ipynb",
      "provenance": []
    },
    "kernelspec": {
      "name": "python3",
      "display_name": "Python 3"
    }
  },
  "cells": [
    {
      "cell_type": "markdown",
      "metadata": {
        "colab_type": "text",
        "id": "7sXTrOiB2LWq"
      },
      "source": [
        "# Question1 odd even function using decorator"
      ]
    },
    {
      "cell_type": "code",
      "metadata": {
        "id": "vbKaHEoqhm-c",
        "colab_type": "code",
        "colab": {}
      },
      "source": [
        "def getInput(evenodd_arg_fun):\n",
        "    def wrap_function():\n",
        "        print(\"Hey people enter two numbers =\")\n",
        "        a = int(input(\"Enter lower range Number - \"))\n",
        "        b = int(input(\"Enter upper range Number - \"))\n",
        "        evenodd_arg_fun(a,b)   \n",
        "    return wrap_function"
      ],
      "execution_count": 12,
      "outputs": []
    },
    {
      "cell_type": "markdown",
      "metadata": {
        "id": "3X4izQgE2GnV",
        "colab_type": "text"
      },
      "source": [
        "# New Section"
      ]
    },
    {
      "cell_type": "code",
      "metadata": {
        "id": "Ap4WEBK6t3fX",
        "colab_type": "code",
        "colab": {}
      },
      "source": [
        "@getInput\n",
        "def evenodd(l,u):\n",
        "  list1 =[]\n",
        "  list2 =[]\n",
        "  for i in range(l,u):\n",
        "    if i%2 == 0:\n",
        "      list1.append(i)\n",
        "    else:\n",
        "      list2.append(i)\n",
        "  print(list1)\n",
        "  print(list2)\n",
        " \n"
      ],
      "execution_count": 32,
      "outputs": []
    },
    {
      "cell_type": "code",
      "metadata": {
        "id": "9t-xlJrQuaWP",
        "colab_type": "code",
        "colab": {
          "base_uri": "https://localhost:8080/",
          "height": 108
        },
        "outputId": "ce6f0f1a-2666-49dd-b23a-e948fe404d73"
      },
      "source": [
        "evenodd()"
      ],
      "execution_count": 33,
      "outputs": [
        {
          "output_type": "stream",
          "text": [
            "Hey people enter two numbers =\n",
            "Enter lower range Number - 10\n",
            "Enter upper range Number - 50\n",
            "[10, 12, 14, 16, 18, 20, 22, 24, 26, 28, 30, 32, 34, 36, 38, 40, 42, 44, 46, 48]\n",
            "[11, 13, 15, 17, 19, 21, 23, 25, 27, 29, 31, 33, 35, 37, 39, 41, 43, 45, 47, 49]\n"
          ],
          "name": "stdout"
        }
      ]
    },
    {
      "cell_type": "markdown",
      "metadata": {
        "id": "qSGmOPoQ2Vv4",
        "colab_type": "text"
      },
      "source": [
        "# Question2"
      ]
    },
    {
      "cell_type": "code",
      "metadata": {
        "id": "SemwExut2b_V",
        "colab_type": "code",
        "colab": {
          "base_uri": "https://localhost:8080/",
          "height": 35
        },
        "outputId": "98bbfcfe-2a32-4a27-e058-8d075944a716"
      },
      "source": [
        "try:\n",
        "  file = open(\"hello.txt\",'r')\n",
        "  file.write(\"hey\")\n",
        "  file.close()\n",
        "except Exception as e:\n",
        "  print(e)\n"
      ],
      "execution_count": 37,
      "outputs": [
        {
          "output_type": "stream",
          "text": [
            "not writable\n"
          ],
          "name": "stdout"
        }
      ]
    },
    {
      "cell_type": "code",
      "metadata": {
        "id": "hrDHRalk3Xdp",
        "colab_type": "code",
        "colab": {}
      },
      "source": [
        ""
      ],
      "execution_count": null,
      "outputs": []
    }
  ]
}