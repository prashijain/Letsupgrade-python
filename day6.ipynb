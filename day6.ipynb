{
  "nbformat": 4,
  "nbformat_minor": 0,
  "metadata": {
    "colab": {
      "name": "day6.ipynb",
      "provenance": [],
      "collapsed_sections": []
    },
    "kernelspec": {
      "name": "python3",
      "display_name": "Python 3"
    }
  },
  "cells": [
    {
      "cell_type": "markdown",
      "metadata": {
        "id": "yltu1PAlB_gg",
        "colab_type": "text"
      },
      "source": [
        "# Question1"
      ]
    },
    {
      "cell_type": "code",
      "metadata": {
        "id": "SuJqIf5HCExF",
        "colab_type": "code",
        "colab": {
          "base_uri": "https://localhost:8080/",
          "height": 294
        },
        "outputId": "eaa83880-8847-43eb-ab85-1f83c9cfaebb"
      },
      "source": [
        "class Bankaccount():\n",
        "  def __init__(self,name,balance):\n",
        "    self.name = name\n",
        "    self.balance = balance\n",
        "    print(\"owner name:\",self.name )\n",
        "    print(\"available balance:\",self.balance)\n",
        " \n",
        "  def deposit(self,amt):\n",
        "    self.balance = self.balance+ amt\n",
        "    print(amt ,\"is deposited in your account now available balance is \",self.balance)\n",
        "  \n",
        "  def withdraw(self,amount):\n",
        "    if amount < self.balance:\n",
        "      self.balance -= amount\n",
        "      print(amount ,\"is withdrawn from your account now available balance is \",self.balance)\n",
        "    else:\n",
        "      print(\"account is overdrawn\")\n",
        "  \n",
        " \n",
        "# different instances\n",
        "person1 = Bankaccount(\"ram\",2000)\n",
        "person1.deposit(5000)\n",
        "person1.withdraw(2000)\n",
        "person1.deposit(5000)\n",
        "person1.withdraw(20000)\n",
        "print()\n",
        "person2 = Bankaccount(\"varun\",8000)\n",
        "person2.deposit(5000)\n",
        "person2.withdraw(9000)\n",
        "print()\n",
        "person3 = Bankaccount(\"priya\",1000)\n",
        "person3.deposit(4000)\n",
        "person3.withdraw(3000)\n",
        "\n",
        "\n",
        "\n",
        "  \n"
      ],
      "execution_count": 21,
      "outputs": [
        {
          "output_type": "stream",
          "text": [
            "owner name: ram\n",
            "available balance: 2000\n",
            "5000 is deposited in your account now available balance is  7000\n",
            "2000 is withdrawn from your account now available balance is  5000\n",
            "5000 is deposited in your account now available balance is  10000\n",
            "account is overdrawn\n",
            "\n",
            "owner name: varun\n",
            "available balance: 8000\n",
            "5000 is deposited in your account now available balance is  13000\n",
            "9000 is withdrawn from your account now available balance is  4000\n",
            "\n",
            "owner name: priya\n",
            "available balance: 1000\n",
            "4000 is deposited in your account now available balance is  5000\n",
            "3000 is withdrawn from your account now available balance is  2000\n"
          ],
          "name": "stdout"
        }
      ]
    },
    {
      "cell_type": "markdown",
      "metadata": {
        "id": "WKBvPw3tnYoV",
        "colab_type": "text"
      },
      "source": [
        "# Question2"
      ]
    },
    {
      "cell_type": "code",
      "metadata": {
        "id": "ZukEjOtsF9ui",
        "colab_type": "code",
        "colab": {
          "base_uri": "https://localhost:8080/",
          "height": 52
        },
        "outputId": "f1c105da-63e5-4b34-d40d-d18306eb55e7"
      },
      "source": [
        "import math\n",
        "class cone:\n",
        "  def __init__(self,r,h):\n",
        "    self.r = r\n",
        "    self.h = h\n",
        "\n",
        "  # volume\n",
        "  def volume(self):\n",
        "    volume = math.pi * self.r **2 * (self.h/3)\n",
        "    print(\"volume = \",volume)\n",
        "  \n",
        "  #surface area\n",
        "  def surfacearea(self):\n",
        "    base = math.pi * self.r**2\n",
        "    side = math.pi * self.r**2 * math.sqrt(self.r**2 + self.h**2)\n",
        "    print(\"Base :\", base ,\"and side : \",side)\n",
        "\n",
        "shape = cone(5,6)\n",
        "shape.volume()\n",
        "shape.surfacearea()"
      ],
      "execution_count": 26,
      "outputs": [
        {
          "output_type": "stream",
          "text": [
            "volume =  157.07963267948966\n",
            "Base : 78.53981633974483 and side :  613.4155751132602\n"
          ],
          "name": "stdout"
        }
      ]
    },
    {
      "cell_type": "code",
      "metadata": {
        "id": "NNTva9cO3Ttx",
        "colab_type": "code",
        "colab": {}
      },
      "source": [
        ""
      ],
      "execution_count": null,
      "outputs": []
    }
  ]
}