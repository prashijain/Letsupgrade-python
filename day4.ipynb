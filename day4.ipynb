{
  "nbformat": 4,
  "nbformat_minor": 0,
  "metadata": {
    "colab": {
      "name": "Untitled4.ipynb",
      "provenance": [],
      "collapsed_sections": []
    },
    "kernelspec": {
      "name": "python3",
      "display_name": "Python 3"
    }
  },
  "cells": [
    {
      "cell_type": "code",
      "metadata": {
        "id": "NsTy1Z27g-lB",
        "colab_type": "code",
        "colab": {
          "base_uri": "https://localhost:8080/",
          "height": 34
        },
        "outputId": "2d7b73b1-7282-4e18-a6c9-0bad7da6dfbd"
      },
      "source": [
        "for i in range(1042000,702648265):\n",
        "    num = i\n",
        "    n = i\n",
        "    d = 0\n",
        "    sum = 0\n",
        "    while(i >= 1):\n",
        "        i=  i/10\n",
        "        d = d+1\n",
        "    while(n > 0):\n",
        "        a = int(n%10)\n",
        "        n = int(n/10)\n",
        "        sum = sum + a ** d\n",
        "    if num == sum:\n",
        "        print(sum)\n",
        "        break\n"
      ],
      "execution_count": 5,
      "outputs": [
        {
          "output_type": "stream",
          "text": [
            "1741725\n"
          ],
          "name": "stdout"
        }
      ]
    },
    {
      "cell_type": "code",
      "metadata": {
        "id": "sXgfrHcphEmp",
        "colab_type": "code",
        "colab": {}
      },
      "source": [
        ""
      ],
      "execution_count": null,
      "outputs": []
    }
  ]
}