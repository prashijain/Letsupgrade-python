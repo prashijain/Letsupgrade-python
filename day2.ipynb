{
 "cells": [
  {
   "cell_type": "markdown",
   "metadata": {},
   "source": [
    "# List functions"
   ]
  },
  {
   "cell_type": "code",
   "execution_count": 8,
   "metadata": {},
   "outputs": [
    {
     "name": "stdout",
     "output_type": "stream",
     "text": [
      "[20, 10, 40, 50, 30, 60]\n",
      "6\n",
      "[60, 30, 50, 40, 10, 20]\n",
      "[10, 20, 30, 40, 50, 60]\n",
      "60\n",
      "50\n",
      "[10, 20, 30, 50]\n"
     ]
    }
   ],
   "source": [
    "lst = [20,10,40,50,30]\n",
    "lst.append(60) # to appned an item in the list\n",
    "print(lst)\n",
    "print(len(lst)) # to display length of the list\n",
    "lst.reverse() # to reverse the list\n",
    "print(lst)\n",
    "lst.sort() # to sort the list\n",
    "print(lst)\n",
    "print(lst.pop()) # removes and returns the last element of the list\n",
    "print(max(lst))  #diaplay the maximum element of list\n",
    "lst.remove(40) # remove the element from list\n",
    "print(lst)\n",
    "\n"
   ]
  },
  {
   "cell_type": "markdown",
   "metadata": {},
   "source": [
    "# Dictinary and its functions"
   ]
  },
  {
   "cell_type": "code",
   "execution_count": 14,
   "metadata": {},
   "outputs": [
    {
     "name": "stdout",
     "output_type": "stream",
     "text": [
      "Delhi\n",
      "3\n",
      "dict_items([('India', 'Delhi'), ('France', 'Paris'), ('Japan', 'Tokyo')])\n",
      "dict_keys(['India', 'France', 'Japan'])\n",
      "dict_values(['Delhi', 'Paris', 'Tokyo'])\n"
     ]
    }
   ],
   "source": [
    "capitals = {\"India\" : \"Delhi\" , \"France\"  : \"Paris\" , \"Japan\" : \"Tokyo\"}\n",
    "print(capitals.get(\"India\")) # get the value of key specified by us\n",
    "print(len(capitals)) # returns the length of dictionary\n",
    "print(capitals.items()) # returns a list of tuple . with each tuple containing ne key and the corresponding value\n",
    "print(capitals.keys()) # return a list containing keys of dictionary\n",
    "print(capitals.values()) # returns a list of values of dictionary"
   ]
  },
  {
   "cell_type": "markdown",
   "metadata": {},
   "source": [
    "# Sets and its functions"
   ]
  },
  {
   "cell_type": "code",
   "execution_count": 15,
   "metadata": {},
   "outputs": [
    {
     "name": "stdout",
     "output_type": "stream",
     "text": [
      "{1, 3, 6, 8, 9, 13}\n",
      "{1, 3, 6, 8, 9, 13, 15, 18}\n",
      "{1, 3, 6, 8, 9, 13, 15, 18}\n",
      "{1, 3, 6, 9, 13, 15, 18}\n",
      "{1, 3, 9, 13, 15, 18}\n",
      "set()\n"
     ]
    }
   ],
   "source": [
    "s1 = {1 ,3 ,6 ,8 ,9}\n",
    "s1.add(13)  # add new element in set\n",
    "print(s1)\n",
    "s1.update([15,18])  # adds multiple items from a list or tuple\n",
    "print(s1)\n",
    "s2 = s1.copy() # creates a copy of set object\n",
    "print(s2)\n",
    "s1.discard(8)  # returns set after removing the item no change if the item is not present in the set\n",
    "print(s1)\n",
    "s1.remove(6) # returns set after removing the item else returns error  if the item is not present in the set\n",
    "print(s1)\n",
    "s1.clear() # removes all the content of set\n",
    "print(s1)\n"
   ]
  },
  {
   "cell_type": "markdown",
   "metadata": {},
   "source": [
    "# Tuples and its functions\n"
   ]
  },
  {
   "cell_type": "code",
   "execution_count": 18,
   "metadata": {},
   "outputs": [
    {
     "name": "stdout",
     "output_type": "stream",
     "text": [
      "3\n",
      "2\n"
     ]
    }
   ],
   "source": [
    "T = (1,2,3,4,5,6,2,3,4,2,5)\n",
    "print(T.count(2)) #Returns the number of times a specified value occurs in a tuple\n",
    "print(T.index(3)) #method finds the first occurrence of the specified value"
   ]
  },
  {
   "cell_type": "markdown",
   "metadata": {},
   "source": [
    "# String and its default methods"
   ]
  },
  {
   "cell_type": "code",
   "execution_count": 33,
   "metadata": {},
   "outputs": [
    {
     "name": "stdout",
     "output_type": "stream",
     "text": [
      "HELLO I AM LEARNING PYTHON ESSENTIALS FROM LETS UPGRADE\n",
      "hello i am learning python essentials from lets upgrade\n",
      "8\n",
      "4\n",
      "False\n",
      "False\n",
      "False\n"
     ]
    }
   ],
   "source": [
    "str = \"hello I am Learning Python Essentials from lets upgrade\"\n",
    "print(str.upper()) #converts the string to upper case\n",
    "print(str.lower())  #converts the string to lower case\n",
    "print(str.find(\"am\")) #Searches the string for a specified substring and returns the position of where it was found\n",
    "print(str.count(\"a\")) #Returns the number of times a specified substring occurs in a string\n",
    "print(str.isalpha())   #Returns True if all characters in the string are in the alphabet\n",
    "print(str.isupper()) #Returns True if all characters in the string are upper case\n",
    "print(str.islower()) #Returns True if all characters in the string are lower case\n"
   ]
  },
  {
   "cell_type": "code",
   "execution_count": null,
   "metadata": {},
   "outputs": [],
   "source": []
  }
 ],
 "metadata": {
  "kernelspec": {
   "display_name": "Python 3",
   "language": "python",
   "name": "python3"
  },
  "language_info": {
   "codemirror_mode": {
    "name": "ipython",
    "version": 3
   },
   "file_extension": ".py",
   "mimetype": "text/x-python",
   "name": "python",
   "nbconvert_exporter": "python",
   "pygments_lexer": "ipython3",
   "version": "3.7.6"
  }
 },
 "nbformat": 4,
 "nbformat_minor": 4
}
